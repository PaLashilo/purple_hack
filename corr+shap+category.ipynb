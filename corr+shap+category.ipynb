{
 "cells": [
  {
   "cell_type": "code",
   "execution_count": 2,
   "metadata": {},
   "outputs": [
    {
     "name": "stderr",
     "output_type": "stream",
     "text": [
      "/cephfs/projects/ppashin/.local/lib/python3.11/site-packages/pandas/core/arrays/masked.py:60: UserWarning: Pandas requires version '1.3.6' or newer of 'bottleneck' (version '1.3.5' currently installed).\n",
      "  from pandas.core import (\n",
      "/tmp/ipykernel_138387/406648216.py:4: DeprecationWarning: \n",
      "Pyarrow will become a required dependency of pandas in the next major release of pandas (pandas 3.0),\n",
      "(to allow more performant data types, such as the Arrow string type, and better interoperability with other libraries)\n",
      "but was not found to be installed on your system.\n",
      "If this would cause problems for you,\n",
      "please provide us feedback at https://github.com/pandas-dev/pandas/issues/54466\n",
      "        \n",
      "  import pandas as pd\n"
     ]
    }
   ],
   "source": [
    "from sklearn.metrics import  roc_auc_score, classification_report, accuracy_score\n",
    "from sklearn.model_selection import train_test_split\n",
    "\n",
    "import pandas as pd\n",
    "from fastparquet import ParquetFile\n",
    "import numpy as np\n",
    "\n",
    "import shap\n",
    "from utils import feature_drop, remove_highly_correlated_features, get_shap_feature, get_categorical_columns\n",
    "\n",
    "from catboost import CatBoostClassifier, Pool\n",
    "from xgboost import XGBClassifier\n",
    "import lightgbm as lgb\n",
    "\n",
    "import seaborn as sns\n",
    "import matplotlib.pyplot as plt\n",
    "colors = [\"#A115FE\", \"#8F00FF\", \"#4d0585\", \"#591878\", \"#6e1f78\", \"#7b469c\", \"#2c0652\",\n",
    "          \"#29AB50\", \"#22753b\", \"#ECE919\", \"#7a781d\", \"#0F91D0\", \"#0f3f75\"]\n",
    "sns.set_palette(sns.color_palette(colors))"
   ]
  },
  {
   "cell_type": "code",
   "execution_count": 3,
   "metadata": {},
   "outputs": [
    {
     "data": {
      "text/html": [
       "<div>\n",
       "<style scoped>\n",
       "    .dataframe tbody tr th:only-of-type {\n",
       "        vertical-align: middle;\n",
       "    }\n",
       "\n",
       "    .dataframe tbody tr th {\n",
       "        vertical-align: top;\n",
       "    }\n",
       "\n",
       "    .dataframe thead th {\n",
       "        text-align: right;\n",
       "    }\n",
       "</style>\n",
       "<table border=\"1\" class=\"dataframe\">\n",
       "  <thead>\n",
       "    <tr style=\"text-align: right;\">\n",
       "      <th></th>\n",
       "      <th>id</th>\n",
       "      <th>target</th>\n",
       "      <th>feature1</th>\n",
       "      <th>feature2</th>\n",
       "      <th>feature3</th>\n",
       "      <th>feature4</th>\n",
       "      <th>feature5</th>\n",
       "      <th>feature6</th>\n",
       "      <th>feature7</th>\n",
       "      <th>feature8</th>\n",
       "      <th>...</th>\n",
       "      <th>feature1067</th>\n",
       "      <th>feature1068</th>\n",
       "      <th>feature1069</th>\n",
       "      <th>feature1070</th>\n",
       "      <th>feature1071</th>\n",
       "      <th>feature1072</th>\n",
       "      <th>feature1073</th>\n",
       "      <th>feature1074</th>\n",
       "      <th>feature1075</th>\n",
       "      <th>feature1076</th>\n",
       "    </tr>\n",
       "  </thead>\n",
       "  <tbody>\n",
       "    <tr>\n",
       "      <th>0</th>\n",
       "      <td>0</td>\n",
       "      <td>0</td>\n",
       "      <td>1761</td>\n",
       "      <td>1759</td>\n",
       "      <td>85</td>\n",
       "      <td>105469</td>\n",
       "      <td>191</td>\n",
       "      <td>46</td>\n",
       "      <td>0</td>\n",
       "      <td>6</td>\n",
       "      <td>...</td>\n",
       "      <td>28913</td>\n",
       "      <td>48985</td>\n",
       "      <td>84264</td>\n",
       "      <td>12045</td>\n",
       "      <td>12107</td>\n",
       "      <td>12510</td>\n",
       "      <td>21126</td>\n",
       "      <td>28913</td>\n",
       "      <td>48985</td>\n",
       "      <td>84264</td>\n",
       "    </tr>\n",
       "    <tr>\n",
       "      <th>1</th>\n",
       "      <td>1</td>\n",
       "      <td>0</td>\n",
       "      <td>1761</td>\n",
       "      <td>1759</td>\n",
       "      <td>120</td>\n",
       "      <td>105610</td>\n",
       "      <td>144</td>\n",
       "      <td>71</td>\n",
       "      <td>0</td>\n",
       "      <td>135</td>\n",
       "      <td>...</td>\n",
       "      <td>0</td>\n",
       "      <td>0</td>\n",
       "      <td>0</td>\n",
       "      <td>0</td>\n",
       "      <td>0</td>\n",
       "      <td>0</td>\n",
       "      <td>0</td>\n",
       "      <td>0</td>\n",
       "      <td>0</td>\n",
       "      <td>0</td>\n",
       "    </tr>\n",
       "    <tr>\n",
       "      <th>2</th>\n",
       "      <td>2</td>\n",
       "      <td>0</td>\n",
       "      <td>890</td>\n",
       "      <td>1759</td>\n",
       "      <td>141</td>\n",
       "      <td>105227</td>\n",
       "      <td>191</td>\n",
       "      <td>11</td>\n",
       "      <td>0</td>\n",
       "      <td>0</td>\n",
       "      <td>...</td>\n",
       "      <td>55949</td>\n",
       "      <td>70006</td>\n",
       "      <td>113317</td>\n",
       "      <td>33735</td>\n",
       "      <td>31242</td>\n",
       "      <td>12691</td>\n",
       "      <td>48682</td>\n",
       "      <td>55949</td>\n",
       "      <td>70006</td>\n",
       "      <td>113317</td>\n",
       "    </tr>\n",
       "    <tr>\n",
       "      <th>5</th>\n",
       "      <td>5</td>\n",
       "      <td>0</td>\n",
       "      <td>1599</td>\n",
       "      <td>966</td>\n",
       "      <td>30</td>\n",
       "      <td>102441</td>\n",
       "      <td>191</td>\n",
       "      <td>8</td>\n",
       "      <td>0</td>\n",
       "      <td>0</td>\n",
       "      <td>...</td>\n",
       "      <td>0</td>\n",
       "      <td>6872</td>\n",
       "      <td>8530</td>\n",
       "      <td>0</td>\n",
       "      <td>0</td>\n",
       "      <td>0</td>\n",
       "      <td>0</td>\n",
       "      <td>0</td>\n",
       "      <td>6872</td>\n",
       "      <td>8530</td>\n",
       "    </tr>\n",
       "    <tr>\n",
       "      <th>6</th>\n",
       "      <td>6</td>\n",
       "      <td>0</td>\n",
       "      <td>1761</td>\n",
       "      <td>1759</td>\n",
       "      <td>85</td>\n",
       "      <td>104006</td>\n",
       "      <td>191</td>\n",
       "      <td>2</td>\n",
       "      <td>0</td>\n",
       "      <td>0</td>\n",
       "      <td>...</td>\n",
       "      <td>0</td>\n",
       "      <td>0</td>\n",
       "      <td>7642</td>\n",
       "      <td>0</td>\n",
       "      <td>0</td>\n",
       "      <td>0</td>\n",
       "      <td>0</td>\n",
       "      <td>0</td>\n",
       "      <td>0</td>\n",
       "      <td>7642</td>\n",
       "    </tr>\n",
       "  </tbody>\n",
       "</table>\n",
       "<p>5 rows × 988 columns</p>\n",
       "</div>"
      ],
      "text/plain": [
       "   id  target  feature1  feature2  feature3  feature4  feature5  feature6  \\\n",
       "0   0       0      1761      1759        85    105469       191        46   \n",
       "1   1       0      1761      1759       120    105610       144        71   \n",
       "2   2       0       890      1759       141    105227       191        11   \n",
       "5   5       0      1599       966        30    102441       191         8   \n",
       "6   6       0      1761      1759        85    104006       191         2   \n",
       "\n",
       "   feature7  feature8  ...  feature1067  feature1068  feature1069  \\\n",
       "0         0         6  ...        28913        48985        84264   \n",
       "1         0       135  ...            0            0            0   \n",
       "2         0         0  ...        55949        70006       113317   \n",
       "5         0         0  ...            0         6872         8530   \n",
       "6         0         0  ...            0            0         7642   \n",
       "\n",
       "   feature1070  feature1071  feature1072  feature1073  feature1074  \\\n",
       "0        12045        12107        12510        21126        28913   \n",
       "1            0            0            0            0            0   \n",
       "2        33735        31242        12691        48682        55949   \n",
       "5            0            0            0            0            0   \n",
       "6            0            0            0            0            0   \n",
       "\n",
       "   feature1075  feature1076  \n",
       "0        48985        84264  \n",
       "1            0            0  \n",
       "2        70006       113317  \n",
       "5         6872         8530  \n",
       "6            0         7642  \n",
       "\n",
       "[5 rows x 988 columns]"
      ]
     },
     "execution_count": 3,
     "metadata": {},
     "output_type": "execute_result"
    }
   ],
   "source": [
    "file_path = \"Data/train_ai_comp_final_dp.parquet\"\n",
    "pf = ParquetFile(file_path)\n",
    "df = pf.to_pandas()\n",
    "df = feature_drop(df)\n",
    "df.head()"
   ]
  },
  {
   "cell_type": "code",
   "execution_count": 4,
   "metadata": {},
   "outputs": [],
   "source": [
    "X = df.drop(columns=['target', \"id\"])\n",
    "y = df['target']\n",
    "X_train, X_temp, y_train, y_temp = train_test_split(X, y, test_size=0.3, random_state=42)\n",
    "X_val, X_test, y_val, y_test = train_test_split(X_temp, y_temp, test_size=0.5, random_state=42)"
   ]
  },
  {
   "cell_type": "code",
   "execution_count": 5,
   "metadata": {},
   "outputs": [
    {
     "data": {
      "text/html": [
       "<div>\n",
       "<style scoped>\n",
       "    .dataframe tbody tr th:only-of-type {\n",
       "        vertical-align: middle;\n",
       "    }\n",
       "\n",
       "    .dataframe tbody tr th {\n",
       "        vertical-align: top;\n",
       "    }\n",
       "\n",
       "    .dataframe thead th {\n",
       "        text-align: right;\n",
       "    }\n",
       "</style>\n",
       "<table border=\"1\" class=\"dataframe\">\n",
       "  <thead>\n",
       "    <tr style=\"text-align: right;\">\n",
       "      <th></th>\n",
       "      <th>feature1</th>\n",
       "      <th>feature2</th>\n",
       "      <th>feature3</th>\n",
       "      <th>feature4</th>\n",
       "      <th>feature5</th>\n",
       "      <th>feature6</th>\n",
       "      <th>feature7</th>\n",
       "      <th>feature8</th>\n",
       "      <th>feature9</th>\n",
       "      <th>feature10</th>\n",
       "      <th>...</th>\n",
       "      <th>feature1067</th>\n",
       "      <th>feature1068</th>\n",
       "      <th>feature1069</th>\n",
       "      <th>feature1070</th>\n",
       "      <th>feature1071</th>\n",
       "      <th>feature1072</th>\n",
       "      <th>feature1073</th>\n",
       "      <th>feature1074</th>\n",
       "      <th>feature1075</th>\n",
       "      <th>feature1076</th>\n",
       "    </tr>\n",
       "  </thead>\n",
       "  <tbody>\n",
       "    <tr>\n",
       "      <th>305172</th>\n",
       "      <td>408</td>\n",
       "      <td>260</td>\n",
       "      <td>141</td>\n",
       "      <td>94228</td>\n",
       "      <td>191</td>\n",
       "      <td>71</td>\n",
       "      <td>0</td>\n",
       "      <td>16</td>\n",
       "      <td>16</td>\n",
       "      <td>0</td>\n",
       "      <td>...</td>\n",
       "      <td>0</td>\n",
       "      <td>0</td>\n",
       "      <td>0</td>\n",
       "      <td>0</td>\n",
       "      <td>0</td>\n",
       "      <td>0</td>\n",
       "      <td>0</td>\n",
       "      <td>0</td>\n",
       "      <td>0</td>\n",
       "      <td>0</td>\n",
       "    </tr>\n",
       "    <tr>\n",
       "      <th>180948</th>\n",
       "      <td>1618</td>\n",
       "      <td>1759</td>\n",
       "      <td>76</td>\n",
       "      <td>104221</td>\n",
       "      <td>116</td>\n",
       "      <td>30</td>\n",
       "      <td>0</td>\n",
       "      <td>88</td>\n",
       "      <td>0</td>\n",
       "      <td>0</td>\n",
       "      <td>...</td>\n",
       "      <td>0</td>\n",
       "      <td>0</td>\n",
       "      <td>136043</td>\n",
       "      <td>0</td>\n",
       "      <td>0</td>\n",
       "      <td>0</td>\n",
       "      <td>0</td>\n",
       "      <td>0</td>\n",
       "      <td>0</td>\n",
       "      <td>136043</td>\n",
       "    </tr>\n",
       "    <tr>\n",
       "      <th>319360</th>\n",
       "      <td>1650</td>\n",
       "      <td>844</td>\n",
       "      <td>115</td>\n",
       "      <td>105356</td>\n",
       "      <td>15</td>\n",
       "      <td>15</td>\n",
       "      <td>0</td>\n",
       "      <td>10</td>\n",
       "      <td>117</td>\n",
       "      <td>0</td>\n",
       "      <td>...</td>\n",
       "      <td>0</td>\n",
       "      <td>0</td>\n",
       "      <td>0</td>\n",
       "      <td>0</td>\n",
       "      <td>0</td>\n",
       "      <td>0</td>\n",
       "      <td>0</td>\n",
       "      <td>0</td>\n",
       "      <td>0</td>\n",
       "      <td>0</td>\n",
       "    </tr>\n",
       "    <tr>\n",
       "      <th>9967</th>\n",
       "      <td>1761</td>\n",
       "      <td>1759</td>\n",
       "      <td>141</td>\n",
       "      <td>46077</td>\n",
       "      <td>191</td>\n",
       "      <td>7</td>\n",
       "      <td>125</td>\n",
       "      <td>290</td>\n",
       "      <td>298</td>\n",
       "      <td>176</td>\n",
       "      <td>...</td>\n",
       "      <td>77026</td>\n",
       "      <td>110780</td>\n",
       "      <td>161867</td>\n",
       "      <td>34905</td>\n",
       "      <td>45974</td>\n",
       "      <td>46056</td>\n",
       "      <td>61544</td>\n",
       "      <td>77026</td>\n",
       "      <td>110780</td>\n",
       "      <td>161867</td>\n",
       "    </tr>\n",
       "    <tr>\n",
       "      <th>336341</th>\n",
       "      <td>1712</td>\n",
       "      <td>827</td>\n",
       "      <td>97</td>\n",
       "      <td>101763</td>\n",
       "      <td>191</td>\n",
       "      <td>5</td>\n",
       "      <td>125</td>\n",
       "      <td>290</td>\n",
       "      <td>298</td>\n",
       "      <td>176</td>\n",
       "      <td>...</td>\n",
       "      <td>52359</td>\n",
       "      <td>78713</td>\n",
       "      <td>122688</td>\n",
       "      <td>25856</td>\n",
       "      <td>19395</td>\n",
       "      <td>32335</td>\n",
       "      <td>36397</td>\n",
       "      <td>52359</td>\n",
       "      <td>78713</td>\n",
       "      <td>122688</td>\n",
       "    </tr>\n",
       "  </tbody>\n",
       "</table>\n",
       "<p>5 rows × 986 columns</p>\n",
       "</div>"
      ],
      "text/plain": [
       "        feature1  feature2  feature3  feature4  feature5  feature6  feature7  \\\n",
       "305172       408       260       141     94228       191        71         0   \n",
       "180948      1618      1759        76    104221       116        30         0   \n",
       "319360      1650       844       115    105356        15        15         0   \n",
       "9967        1761      1759       141     46077       191         7       125   \n",
       "336341      1712       827        97    101763       191         5       125   \n",
       "\n",
       "        feature8  feature9  feature10  ...  feature1067  feature1068  \\\n",
       "305172        16        16          0  ...            0            0   \n",
       "180948        88         0          0  ...            0            0   \n",
       "319360        10       117          0  ...            0            0   \n",
       "9967         290       298        176  ...        77026       110780   \n",
       "336341       290       298        176  ...        52359        78713   \n",
       "\n",
       "        feature1069  feature1070  feature1071  feature1072  feature1073  \\\n",
       "305172            0            0            0            0            0   \n",
       "180948       136043            0            0            0            0   \n",
       "319360            0            0            0            0            0   \n",
       "9967         161867        34905        45974        46056        61544   \n",
       "336341       122688        25856        19395        32335        36397   \n",
       "\n",
       "        feature1074  feature1075  feature1076  \n",
       "305172            0            0            0  \n",
       "180948            0            0       136043  \n",
       "319360            0            0            0  \n",
       "9967          77026       110780       161867  \n",
       "336341        52359        78713       122688  \n",
       "\n",
       "[5 rows x 986 columns]"
      ]
     },
     "execution_count": 5,
     "metadata": {},
     "output_type": "execute_result"
    }
   ],
   "source": [
    "X_train.head()"
   ]
  },
  {
   "cell_type": "code",
   "execution_count": 6,
   "metadata": {},
   "outputs": [
    {
     "name": "stdout",
     "output_type": "stream",
     "text": [
      "[LightGBM] [Warning] Accuracy may be bad since you didn't explicitly set num_leaves OR 2^max_depth > num_leaves. (num_leaves=31).\n",
      "[LightGBM] [Warning] Accuracy may be bad since you didn't explicitly set num_leaves OR 2^max_depth > num_leaves. (num_leaves=31).\n",
      "[LightGBM] [Info] Number of positive: 13005, number of negative: 350725\n",
      "[LightGBM] [Info] Auto-choosing row-wise multi-threading, the overhead of testing was 0.725174 seconds.\n",
      "You can set `force_row_wise=true` to remove the overhead.\n",
      "And if memory is not enough, you can set `force_col_wise=true`.\n",
      "[LightGBM] [Info] Total Bins 136938\n",
      "[LightGBM] [Info] Number of data points in the train set: 363730, number of used features: 966\n",
      "[LightGBM] [Info] [binary:BoostFromScore]: pavg=0.035755 -> initscore=-3.294669\n",
      "[LightGBM] [Info] Start training from score -3.294669\n"
     ]
    },
    {
     "name": "stderr",
     "output_type": "stream",
     "text": [
      "/cephfs/projects/ppashin/.local/lib/python3.11/site-packages/shap/explainers/_tree.py:448: UserWarning: LightGBM binary classifier with TreeExplainer shap values output has changed to a list of ndarray\n",
      "  warnings.warn('LightGBM binary classifier with TreeExplainer shap values output has changed to a list of ndarray')\n"
     ]
    },
    {
     "name": "stdout",
     "output_type": "stream",
     "text": [
      "0:\tlearn: 0.6777172\ttotal: 300ms\tremaining: 14.7s\n",
      "49:\tlearn: 0.2803793\ttotal: 11.9s\tremaining: 0us\n"
     ]
    }
   ],
   "source": [
    "classifiers = [\n",
    "    lgb.LGBMClassifier(n_estimators=50, random_state=42, max_depth=8, learning_rate=0.01),\n",
    "    XGBClassifier(n_estimators=50, random_state=42, max_depth=8, learning_rate=0.01),\n",
    "    CatBoostClassifier(iterations=50, learning_rate=0.01, depth=8, loss_function='Logloss', verbose=500)\n",
    "]\n",
    "shap_df  = get_shap_feature(X_train, y_train, X_val, classifiers)\n"
   ]
  },
  {
   "cell_type": "code",
   "execution_count": 7,
   "metadata": {},
   "outputs": [
    {
     "data": {
      "text/html": [
       "<div>\n",
       "<style scoped>\n",
       "    .dataframe tbody tr th:only-of-type {\n",
       "        vertical-align: middle;\n",
       "    }\n",
       "\n",
       "    .dataframe tbody tr th {\n",
       "        vertical-align: top;\n",
       "    }\n",
       "\n",
       "    .dataframe thead th {\n",
       "        text-align: right;\n",
       "    }\n",
       "</style>\n",
       "<table border=\"1\" class=\"dataframe\">\n",
       "  <thead>\n",
       "    <tr style=\"text-align: right;\">\n",
       "      <th></th>\n",
       "      <th>feature</th>\n",
       "      <th>shap_importance</th>\n",
       "    </tr>\n",
       "  </thead>\n",
       "  <tbody>\n",
       "    <tr>\n",
       "      <th>567</th>\n",
       "      <td>feature994</td>\n",
       "      <td>3.962634e-02</td>\n",
       "    </tr>\n",
       "    <tr>\n",
       "      <th>212</th>\n",
       "      <td>feature341</td>\n",
       "      <td>3.129357e-02</td>\n",
       "    </tr>\n",
       "    <tr>\n",
       "      <th>198</th>\n",
       "      <td>feature319</td>\n",
       "      <td>1.857745e-02</td>\n",
       "    </tr>\n",
       "    <tr>\n",
       "      <th>6</th>\n",
       "      <td>feature1004</td>\n",
       "      <td>1.746744e-02</td>\n",
       "    </tr>\n",
       "    <tr>\n",
       "      <th>539</th>\n",
       "      <td>feature940</td>\n",
       "      <td>1.602238e-02</td>\n",
       "    </tr>\n",
       "    <tr>\n",
       "      <th>...</th>\n",
       "      <td>...</td>\n",
       "      <td>...</td>\n",
       "    </tr>\n",
       "    <tr>\n",
       "      <th>153</th>\n",
       "      <td>feature233</td>\n",
       "      <td>3.489001e-07</td>\n",
       "    </tr>\n",
       "    <tr>\n",
       "      <th>184</th>\n",
       "      <td>feature302</td>\n",
       "      <td>3.197617e-07</td>\n",
       "    </tr>\n",
       "    <tr>\n",
       "      <th>56</th>\n",
       "      <td>feature125</td>\n",
       "      <td>3.140823e-07</td>\n",
       "    </tr>\n",
       "    <tr>\n",
       "      <th>447</th>\n",
       "      <td>feature783</td>\n",
       "      <td>3.056494e-07</td>\n",
       "    </tr>\n",
       "    <tr>\n",
       "      <th>172</th>\n",
       "      <td>feature28</td>\n",
       "      <td>1.127654e-07</td>\n",
       "    </tr>\n",
       "  </tbody>\n",
       "</table>\n",
       "<p>573 rows × 2 columns</p>\n",
       "</div>"
      ],
      "text/plain": [
       "         feature  shap_importance\n",
       "567   feature994     3.962634e-02\n",
       "212   feature341     3.129357e-02\n",
       "198   feature319     1.857745e-02\n",
       "6    feature1004     1.746744e-02\n",
       "539   feature940     1.602238e-02\n",
       "..           ...              ...\n",
       "153   feature233     3.489001e-07\n",
       "184   feature302     3.197617e-07\n",
       "56    feature125     3.140823e-07\n",
       "447   feature783     3.056494e-07\n",
       "172    feature28     1.127654e-07\n",
       "\n",
       "[573 rows x 2 columns]"
      ]
     },
     "execution_count": 7,
     "metadata": {},
     "output_type": "execute_result"
    }
   ],
   "source": [
    "shap_df.sort_values(by = \"shap_importance\", ascending = False)"
   ]
  },
  {
   "cell_type": "code",
   "execution_count": 8,
   "metadata": {},
   "outputs": [],
   "source": [
    "feature = shap_df[\"feature\"].values\n",
    "X_test, X_train, X_val = X_test[feature], X_train[feature], X_val[feature]"
   ]
  },
  {
   "cell_type": "code",
   "execution_count": 9,
   "metadata": {},
   "outputs": [
    {
     "data": {
      "text/plain": [
       "array(['feature994', 'feature341', 'feature319', 'feature1004',\n",
       "       'feature940', 'feature953', 'feature954', 'feature320',\n",
       "       'feature590', 'feature920'], dtype=object)"
      ]
     },
     "execution_count": 9,
     "metadata": {},
     "output_type": "execute_result"
    }
   ],
   "source": [
    "without_drop = shap_df.sort_values(by = \"shap_importance\", ascending = False)[\"feature\"].head(10)\n",
    "without_drop.values"
   ]
  },
  {
   "cell_type": "code",
   "execution_count": 10,
   "metadata": {},
   "outputs": [
    {
     "data": {
      "text/plain": [
       "(363730, 573)"
      ]
     },
     "execution_count": 10,
     "metadata": {},
     "output_type": "execute_result"
    }
   ],
   "source": [
    "X_train.shape"
   ]
  },
  {
   "cell_type": "code",
   "execution_count": 11,
   "metadata": {},
   "outputs": [],
   "source": [
    "columns_to_remove = remove_highly_correlated_features(X_train.drop(columns=without_drop.values), shap_df, threshold=0.92)"
   ]
  },
  {
   "cell_type": "code",
   "execution_count": 12,
   "metadata": {},
   "outputs": [],
   "source": [
    "X_train, X_val, X_test = X_train.drop(columns=columns_to_remove), X_val.drop(columns=columns_to_remove),  X_test.drop(columns=columns_to_remove)"
   ]
  },
  {
   "cell_type": "code",
   "execution_count": 13,
   "metadata": {},
   "outputs": [
    {
     "data": {
      "text/plain": [
       "(363730, 407)"
      ]
     },
     "execution_count": 13,
     "metadata": {},
     "output_type": "execute_result"
    }
   ],
   "source": [
    "X_train.shape"
   ]
  },
  {
   "cell_type": "code",
   "execution_count": 14,
   "metadata": {},
   "outputs": [],
   "source": [
    "category = get_categorical_columns(X_train)"
   ]
  },
  {
   "cell_type": "code",
   "execution_count": 15,
   "metadata": {},
   "outputs": [
    {
     "data": {
      "text/plain": [
       "32"
      ]
     },
     "execution_count": 15,
     "metadata": {},
     "output_type": "execute_result"
    }
   ],
   "source": [
    "len(category)"
   ]
  },
  {
   "cell_type": "code",
   "execution_count": 16,
   "metadata": {},
   "outputs": [
    {
     "data": {
      "text/plain": [
       "True"
      ]
     },
     "execution_count": 16,
     "metadata": {},
     "output_type": "execute_result"
    }
   ],
   "source": [
    "set1 = set(category)\n",
    "set2 = set(X_train.columns)\n",
    "\n",
    "is_subset = set1.issubset(set2)\n",
    "\n",
    "is_subset"
   ]
  },
  {
   "cell_type": "code",
   "execution_count": 17,
   "metadata": {},
   "outputs": [
    {
     "name": "stdout",
     "output_type": "stream",
     "text": [
      "Wed Mar 13 10:23:18 2024       \n",
      "+---------------------------------------------------------------------------------------+\n",
      "| NVIDIA-SMI 535.86.10              Driver Version: 535.86.10    CUDA Version: 12.2     |\n",
      "|-----------------------------------------+----------------------+----------------------+\n",
      "| GPU  Name                 Persistence-M | Bus-Id        Disp.A | Volatile Uncorr. ECC |\n",
      "| Fan  Temp   Perf          Pwr:Usage/Cap |         Memory-Usage | GPU-Util  Compute M. |\n",
      "|                                         |                      |               MIG M. |\n",
      "|=========================================+======================+======================|\n",
      "|   0  Tesla V100-SXM2-16GB           Off | 00000000:1A:00.0 Off |                    0 |\n",
      "| N/A   45C    P0              79W / 300W |  12751MiB / 16384MiB |    100%      Default |\n",
      "|                                         |                      |                  N/A |\n",
      "+-----------------------------------------+----------------------+----------------------+\n",
      "|   1  Tesla V100-SXM2-16GB           Off | 00000000:1C:00.0 Off |                    0 |\n",
      "| N/A   37C    P0              78W / 300W |  11187MiB / 16384MiB |    100%      Default |\n",
      "|                                         |                      |                  N/A |\n",
      "+-----------------------------------------+----------------------+----------------------+\n",
      "|   2  Tesla V100-SXM2-16GB           Off | 00000000:1D:00.0 Off |                    0 |\n",
      "| N/A   31C    P0              40W / 300W |    253MiB / 16384MiB |      0%      Default |\n",
      "|                                         |                      |                  N/A |\n",
      "+-----------------------------------------+----------------------+----------------------+\n",
      "|   3  Tesla V100-SXM2-16GB           Off | 00000000:1E:00.0 Off |                    0 |\n",
      "| N/A   34C    P0              39W / 300W |    103MiB / 16384MiB |      0%      Default |\n",
      "|                                         |                      |                  N/A |\n",
      "+-----------------------------------------+----------------------+----------------------+\n",
      "                                                                                         \n",
      "+---------------------------------------------------------------------------------------+\n",
      "| Processes:                                                                            |\n",
      "|  GPU   GI   CI        PID   Type   Process name                            GPU Memory |\n",
      "|        ID   ID                                                             Usage      |\n",
      "|=======================================================================================|\n",
      "+---------------------------------------------------------------------------------------+\n"
     ]
    }
   ],
   "source": [
    "!nvidia-smi"
   ]
  },
  {
   "cell_type": "code",
   "execution_count": 18,
   "metadata": {},
   "outputs": [
    {
     "name": "stderr",
     "output_type": "stream",
     "text": [
      "[I 2024-03-13 10:23:19,830] A new study created in memory with name: no-name-280158b5-a0aa-4490-9321-7984cfca81c2\n",
      "/tmp/ipykernel_138387/2637116355.py:12: FutureWarning: suggest_loguniform has been deprecated in v3.0.0. This feature will be removed in v6.0.0. See https://github.com/optuna/optuna/releases/tag/v3.0.0. Use suggest_float(..., log=True) instead.\n",
      "  'learning_rate': trial.suggest_loguniform('learning_rate', 0.001, 0.1),\n",
      "/tmp/ipykernel_138387/2637116355.py:14: FutureWarning: suggest_loguniform has been deprecated in v3.0.0. This feature will be removed in v6.0.0. See https://github.com/optuna/optuna/releases/tag/v3.0.0. Use suggest_float(..., log=True) instead.\n",
      "  'l2_leaf_reg': trial.suggest_loguniform('l2_leaf_reg', 1e-8, 100),\n",
      "/tmp/ipykernel_138387/2637116355.py:15: FutureWarning: suggest_loguniform has been deprecated in v3.0.0. This feature will be removed in v6.0.0. See https://github.com/optuna/optuna/releases/tag/v3.0.0. Use suggest_float(..., log=True) instead.\n",
      "  'random_strength': trial.suggest_loguniform('random_strength', 1e-8, 1.0),\n",
      "Warning: less than 75% gpu memory available for training. Free: 3093.625 Total: 16151.125\n",
      "Warning: less than 75% gpu memory available for training. Free: 4657.625 Total: 16151.125\n"
     ]
    },
    {
     "name": "stdout",
     "output_type": "stream",
     "text": [
      "0:\tlearn: 0.6912189\ttest: 0.6912177\tbest: 0.6912177 (0)\ttotal: 846ms\tremaining: 6m 22s\n",
      "200:\tlearn: 0.4142668\ttest: 0.4141248\tbest: 0.4141248 (200)\ttotal: 2m 23s\tremaining: 3m\n",
      "400:\tlearn: 0.2819587\ttest: 0.2817143\tbest: 0.2817143 (400)\ttotal: 4m 46s\tremaining: 37.1s\n",
      "452:\tlearn: 0.2605265\ttest: 0.2602631\tbest: 0.2602631 (452)\ttotal: 5m 23s\tremaining: 0us\n",
      "bestTest = 0.2602631404\n",
      "bestIteration = 452\n"
     ]
    },
    {
     "name": "stderr",
     "output_type": "stream",
     "text": [
      "[I 2024-03-13 10:28:51,382] Trial 0 finished with value: 0.7230019746353203 and parameters: {'iterations': 453, 'learning_rate': 0.001188866737123741, 'depth': 6, 'l2_leaf_reg': 1.7372551125428e-08, 'random_strength': 0.004702033595871019}. Best is trial 0 with value: 0.7230019746353203.\n"
     ]
    },
    {
     "name": "stdout",
     "output_type": "stream",
     "text": [
      "0 0.7230019746353203\n"
     ]
    },
    {
     "name": "stderr",
     "output_type": "stream",
     "text": [
      "/tmp/ipykernel_138387/2637116355.py:12: FutureWarning: suggest_loguniform has been deprecated in v3.0.0. This feature will be removed in v6.0.0. See https://github.com/optuna/optuna/releases/tag/v3.0.0. Use suggest_float(..., log=True) instead.\n",
      "  'learning_rate': trial.suggest_loguniform('learning_rate', 0.001, 0.1),\n",
      "/tmp/ipykernel_138387/2637116355.py:14: FutureWarning: suggest_loguniform has been deprecated in v3.0.0. This feature will be removed in v6.0.0. See https://github.com/optuna/optuna/releases/tag/v3.0.0. Use suggest_float(..., log=True) instead.\n",
      "  'l2_leaf_reg': trial.suggest_loguniform('l2_leaf_reg', 1e-8, 100),\n",
      "/tmp/ipykernel_138387/2637116355.py:15: FutureWarning: suggest_loguniform has been deprecated in v3.0.0. This feature will be removed in v6.0.0. See https://github.com/optuna/optuna/releases/tag/v3.0.0. Use suggest_float(..., log=True) instead.\n",
      "  'random_strength': trial.suggest_loguniform('random_strength', 1e-8, 1.0),\n",
      "Warning: less than 75% gpu memory available for training. Free: 3091.625 Total: 16151.125\n",
      "Warning: less than 75% gpu memory available for training. Free: 4655.625 Total: 16151.125\n"
     ]
    },
    {
     "name": "stdout",
     "output_type": "stream",
     "text": [
      "0:\tlearn: 0.6913173\ttest: 0.6913174\tbest: 0.6913174 (0)\ttotal: 904ms\tremaining: 3m 23s\n",
      "200:\tlearn: 0.4266329\ttest: 0.4268825\tbest: 0.4268825 (200)\ttotal: 3m 1s\tremaining: 22.6s\n",
      "225:\tlearn: 0.4047136\ttest: 0.4049974\tbest: 0.4049974 (225)\ttotal: 3m 23s\tremaining: 0us\n",
      "bestTest = 0.4049973909\n",
      "bestIteration = 225\n"
     ]
    },
    {
     "name": "stderr",
     "output_type": "stream",
     "text": [
      "[I 2024-03-13 10:32:22,366] Trial 1 finished with value: 0.7245160894019039 and parameters: {'iterations': 226, 'learning_rate': 0.0010965694497740656, 'depth': 9, 'l2_leaf_reg': 0.0031115892576067845, 'random_strength': 4.2410745198621446e-07}. Best is trial 1 with value: 0.7245160894019039.\n"
     ]
    },
    {
     "name": "stdout",
     "output_type": "stream",
     "text": [
      "1 0.7245160894019039\n"
     ]
    },
    {
     "name": "stderr",
     "output_type": "stream",
     "text": [
      "/tmp/ipykernel_138387/2637116355.py:12: FutureWarning: suggest_loguniform has been deprecated in v3.0.0. This feature will be removed in v6.0.0. See https://github.com/optuna/optuna/releases/tag/v3.0.0. Use suggest_float(..., log=True) instead.\n",
      "  'learning_rate': trial.suggest_loguniform('learning_rate', 0.001, 0.1),\n",
      "/tmp/ipykernel_138387/2637116355.py:14: FutureWarning: suggest_loguniform has been deprecated in v3.0.0. This feature will be removed in v6.0.0. See https://github.com/optuna/optuna/releases/tag/v3.0.0. Use suggest_float(..., log=True) instead.\n",
      "  'l2_leaf_reg': trial.suggest_loguniform('l2_leaf_reg', 1e-8, 100),\n",
      "/tmp/ipykernel_138387/2637116355.py:15: FutureWarning: suggest_loguniform has been deprecated in v3.0.0. This feature will be removed in v6.0.0. See https://github.com/optuna/optuna/releases/tag/v3.0.0. Use suggest_float(..., log=True) instead.\n",
      "  'random_strength': trial.suggest_loguniform('random_strength', 1e-8, 1.0),\n",
      "Warning: less than 75% gpu memory available for training. Free: 3091.625 Total: 16151.125\n",
      "Warning: less than 75% gpu memory available for training. Free: 4655.625 Total: 16151.125\n"
     ]
    },
    {
     "name": "stdout",
     "output_type": "stream",
     "text": [
      "0:\tlearn: 0.6710205\ttest: 0.6710497\tbest: 0.6710497 (0)\ttotal: 1s\tremaining: 6m 18s\n",
      "200:\tlearn: 0.1340440\ttest: 0.1406032\tbest: 0.1406032 (200)\ttotal: 3m 21s\tremaining: 2m 58s\n",
      "378:\tlearn: 0.1275529\ttest: 0.1383793\tbest: 0.1383793 (378)\ttotal: 6m 20s\tremaining: 0us\n",
      "bestTest = 0.1383792896\n",
      "bestIteration = 378\n"
     ]
    },
    {
     "name": "stderr",
     "output_type": "stream",
     "text": [
      "[I 2024-03-13 10:38:50,834] Trial 2 finished with value: 0.7363565456354477 and parameters: {'iterations': 379, 'learning_rate': 0.013402014590695613, 'depth': 10, 'l2_leaf_reg': 2.3031728752941413e-06, 'random_strength': 0.0036129598200933433}. Best is trial 2 with value: 0.7363565456354477.\n"
     ]
    },
    {
     "name": "stdout",
     "output_type": "stream",
     "text": [
      "2 0.7363565456354477\n"
     ]
    },
    {
     "name": "stderr",
     "output_type": "stream",
     "text": [
      "/tmp/ipykernel_138387/2637116355.py:12: FutureWarning: suggest_loguniform has been deprecated in v3.0.0. This feature will be removed in v6.0.0. See https://github.com/optuna/optuna/releases/tag/v3.0.0. Use suggest_float(..., log=True) instead.\n",
      "  'learning_rate': trial.suggest_loguniform('learning_rate', 0.001, 0.1),\n",
      "/tmp/ipykernel_138387/2637116355.py:14: FutureWarning: suggest_loguniform has been deprecated in v3.0.0. This feature will be removed in v6.0.0. See https://github.com/optuna/optuna/releases/tag/v3.0.0. Use suggest_float(..., log=True) instead.\n",
      "  'l2_leaf_reg': trial.suggest_loguniform('l2_leaf_reg', 1e-8, 100),\n",
      "/tmp/ipykernel_138387/2637116355.py:15: FutureWarning: suggest_loguniform has been deprecated in v3.0.0. This feature will be removed in v6.0.0. See https://github.com/optuna/optuna/releases/tag/v3.0.0. Use suggest_float(..., log=True) instead.\n",
      "  'random_strength': trial.suggest_loguniform('random_strength', 1e-8, 1.0),\n",
      "Warning: less than 75% gpu memory available for training. Free: 3091.625 Total: 16151.125\n",
      "Warning: less than 75% gpu memory available for training. Free: 4655.625 Total: 16151.125\n"
     ]
    },
    {
     "name": "stdout",
     "output_type": "stream",
     "text": [
      "0:\tlearn: 0.6837893\ttest: 0.6837794\tbest: 0.6837794 (0)\ttotal: 579ms\tremaining: 8m 24s\n",
      "200:\tlearn: 0.1678514\ttest: 0.1672225\tbest: 0.1672225 (200)\ttotal: 1m 56s\tremaining: 6m 28s\n",
      "400:\tlearn: 0.1437110\ttest: 0.1432261\tbest: 0.1432261 (400)\ttotal: 3m 52s\tremaining: 4m 32s\n",
      "600:\tlearn: 0.1407268\ttest: 0.1404900\tbest: 0.1404900 (600)\ttotal: 5m 47s\tremaining: 2m 36s\n",
      "800:\tlearn: 0.1397553\ttest: 0.1397536\tbest: 0.1397536 (800)\ttotal: 7m 43s\tremaining: 41.1s\n",
      "871:\tlearn: 0.1395168\ttest: 0.1395809\tbest: 0.1395809 (871)\ttotal: 8m 25s\tremaining: 0us\n",
      "bestTest = 0.1395808918\n",
      "bestIteration = 871\n"
     ]
    },
    {
     "name": "stderr",
     "output_type": "stream",
     "text": [
      "[I 2024-03-13 10:47:22,995] Trial 3 finished with value: 0.7303252116176416 and parameters: {'iterations': 872, 'learning_rate': 0.005817475685839636, 'depth': 4, 'l2_leaf_reg': 0.006158698282324313, 'random_strength': 1.8531210147459814e-05}. Best is trial 2 with value: 0.7363565456354477.\n"
     ]
    },
    {
     "name": "stdout",
     "output_type": "stream",
     "text": [
      "3 0.7303252116176416\n"
     ]
    },
    {
     "name": "stderr",
     "output_type": "stream",
     "text": [
      "/tmp/ipykernel_138387/2637116355.py:12: FutureWarning: suggest_loguniform has been deprecated in v3.0.0. This feature will be removed in v6.0.0. See https://github.com/optuna/optuna/releases/tag/v3.0.0. Use suggest_float(..., log=True) instead.\n",
      "  'learning_rate': trial.suggest_loguniform('learning_rate', 0.001, 0.1),\n",
      "/tmp/ipykernel_138387/2637116355.py:14: FutureWarning: suggest_loguniform has been deprecated in v3.0.0. This feature will be removed in v6.0.0. See https://github.com/optuna/optuna/releases/tag/v3.0.0. Use suggest_float(..., log=True) instead.\n",
      "  'l2_leaf_reg': trial.suggest_loguniform('l2_leaf_reg', 1e-8, 100),\n",
      "/tmp/ipykernel_138387/2637116355.py:15: FutureWarning: suggest_loguniform has been deprecated in v3.0.0. This feature will be removed in v6.0.0. See https://github.com/optuna/optuna/releases/tag/v3.0.0. Use suggest_float(..., log=True) instead.\n",
      "  'random_strength': trial.suggest_loguniform('random_strength', 1e-8, 1.0),\n",
      "Warning: less than 75% gpu memory available for training. Free: 3091.625 Total: 16151.125\n",
      "Warning: less than 75% gpu memory available for training. Free: 4655.625 Total: 16151.125\n"
     ]
    },
    {
     "name": "stdout",
     "output_type": "stream",
     "text": [
      "0:\tlearn: 0.6080772\ttest: 0.6079834\tbest: 0.6079834 (0)\ttotal: 575ms\tremaining: 7m 16s\n",
      "200:\tlearn: 0.1378135\ttest: 0.1386962\tbest: 0.1386962 (200)\ttotal: 1m 55s\tremaining: 5m 22s\n",
      "400:\tlearn: 0.1361100\ttest: 0.1382206\tbest: 0.1382180 (396)\ttotal: 3m 51s\tremaining: 3m 28s\n",
      "600:\tlearn: 0.1346991\ttest: 0.1379453\tbest: 0.1379393 (587)\ttotal: 5m 47s\tremaining: 1m 32s\n",
      "760:\tlearn: 0.1337199\ttest: 0.1379068\tbest: 0.1378993 (674)\ttotal: 7m 20s\tremaining: 0us\n",
      "bestTest = 0.1378992903\n",
      "bestIteration = 674\n",
      "Shrink model to first 675 iterations.\n"
     ]
    },
    {
     "name": "stderr",
     "output_type": "stream",
     "text": [
      "[I 2024-03-13 10:54:50,443] Trial 4 finished with value: 0.7423263991262239 and parameters: {'iterations': 761, 'learning_rate': 0.055494225764788685, 'depth': 4, 'l2_leaf_reg': 0.0007315946220151431, 'random_strength': 3.6398936407704123e-07}. Best is trial 4 with value: 0.7423263991262239.\n"
     ]
    },
    {
     "name": "stdout",
     "output_type": "stream",
     "text": [
      "4 0.7423263991262239\n"
     ]
    },
    {
     "name": "stderr",
     "output_type": "stream",
     "text": [
      "/tmp/ipykernel_138387/2637116355.py:12: FutureWarning: suggest_loguniform has been deprecated in v3.0.0. This feature will be removed in v6.0.0. See https://github.com/optuna/optuna/releases/tag/v3.0.0. Use suggest_float(..., log=True) instead.\n",
      "  'learning_rate': trial.suggest_loguniform('learning_rate', 0.001, 0.1),\n",
      "/tmp/ipykernel_138387/2637116355.py:14: FutureWarning: suggest_loguniform has been deprecated in v3.0.0. This feature will be removed in v6.0.0. See https://github.com/optuna/optuna/releases/tag/v3.0.0. Use suggest_float(..., log=True) instead.\n",
      "  'l2_leaf_reg': trial.suggest_loguniform('l2_leaf_reg', 1e-8, 100),\n",
      "/tmp/ipykernel_138387/2637116355.py:15: FutureWarning: suggest_loguniform has been deprecated in v3.0.0. This feature will be removed in v6.0.0. See https://github.com/optuna/optuna/releases/tag/v3.0.0. Use suggest_float(..., log=True) instead.\n",
      "  'random_strength': trial.suggest_loguniform('random_strength', 1e-8, 1.0),\n",
      "Warning: less than 75% gpu memory available for training. Free: 3091.625 Total: 16151.125\n",
      "Warning: less than 75% gpu memory available for training. Free: 4655.625 Total: 16151.125\n"
     ]
    },
    {
     "name": "stdout",
     "output_type": "stream",
     "text": [
      "0:\tlearn: 0.6911188\ttest: 0.6911223\tbest: 0.6911223 (0)\ttotal: 1.01s\tremaining: 11m 27s\n",
      "200:\tlearn: 0.4064417\ttest: 0.4072315\tbest: 0.4072315 (200)\ttotal: 3m 21s\tremaining: 7m 58s\n",
      "400:\tlearn: 0.2732260\ttest: 0.2746792\tbest: 0.2746792 (400)\ttotal: 6m 41s\tremaining: 4m 38s\n",
      "600:\tlearn: 0.2083935\ttest: 0.2104886\tbest: 0.2104886 (600)\ttotal: 10m 2s\tremaining: 1m 18s\n",
      "678:\tlearn: 0.1930174\ttest: 0.1953893\tbest: 0.1953893 (678)\ttotal: 11m 20s\tremaining: 0us\n",
      "bestTest = 0.1953893049\n",
      "bestIteration = 678\n"
     ]
    },
    {
     "name": "stderr",
     "output_type": "stream",
     "text": [
      "[I 2024-03-13 11:06:19,030] Trial 5 finished with value: 0.7246700921422747 and parameters: {'iterations': 679, 'learning_rate': 0.0012107843025438729, 'depth': 10, 'l2_leaf_reg': 8.20828176880269e-08, 'random_strength': 7.427815378477136e-06}. Best is trial 4 with value: 0.7423263991262239.\n"
     ]
    },
    {
     "name": "stdout",
     "output_type": "stream",
     "text": [
      "5 0.7246700921422747\n"
     ]
    },
    {
     "name": "stderr",
     "output_type": "stream",
     "text": [
      "/tmp/ipykernel_138387/2637116355.py:12: FutureWarning: suggest_loguniform has been deprecated in v3.0.0. This feature will be removed in v6.0.0. See https://github.com/optuna/optuna/releases/tag/v3.0.0. Use suggest_float(..., log=True) instead.\n",
      "  'learning_rate': trial.suggest_loguniform('learning_rate', 0.001, 0.1),\n",
      "/tmp/ipykernel_138387/2637116355.py:14: FutureWarning: suggest_loguniform has been deprecated in v3.0.0. This feature will be removed in v6.0.0. See https://github.com/optuna/optuna/releases/tag/v3.0.0. Use suggest_float(..., log=True) instead.\n",
      "  'l2_leaf_reg': trial.suggest_loguniform('l2_leaf_reg', 1e-8, 100),\n",
      "/tmp/ipykernel_138387/2637116355.py:15: FutureWarning: suggest_loguniform has been deprecated in v3.0.0. This feature will be removed in v6.0.0. See https://github.com/optuna/optuna/releases/tag/v3.0.0. Use suggest_float(..., log=True) instead.\n",
      "  'random_strength': trial.suggest_loguniform('random_strength', 1e-8, 1.0),\n",
      "Warning: less than 75% gpu memory available for training. Free: 3091.625 Total: 16151.125\n",
      "Warning: less than 75% gpu memory available for training. Free: 4655.625 Total: 16151.125\n"
     ]
    },
    {
     "name": "stdout",
     "output_type": "stream",
     "text": [
      "0:\tlearn: 0.6613870\ttest: 0.6613847\tbest: 0.6613847 (0)\ttotal: 913ms\tremaining: 6m 44s\n",
      "200:\tlearn: 0.1366806\ttest: 0.1387633\tbest: 0.1387633 (200)\ttotal: 3m\tremaining: 3m 38s\n",
      "400:\tlearn: 0.1337730\ttest: 0.1379173\tbest: 0.1379170 (396)\ttotal: 6m\tremaining: 38.7s\n",
      "443:\tlearn: 0.1333307\ttest: 0.1378169\tbest: 0.1378167 (442)\ttotal: 6m 39s\tremaining: 0us\n",
      "bestTest = 0.1378167469\n",
      "bestIteration = 442\n",
      "Shrink model to first 443 iterations.\n"
     ]
    },
    {
     "name": "stderr",
     "output_type": "stream",
     "text": [
      "[I 2024-03-13 11:13:05,794] Trial 6 finished with value: 0.7402659020639901 and parameters: {'iterations': 444, 'learning_rate': 0.01958308777412677, 'depth': 9, 'l2_leaf_reg': 46.11514026309692, 'random_strength': 1.638933248264611e-06}. Best is trial 4 with value: 0.7423263991262239.\n"
     ]
    },
    {
     "name": "stdout",
     "output_type": "stream",
     "text": [
      "6 0.7402659020639901\n"
     ]
    },
    {
     "name": "stderr",
     "output_type": "stream",
     "text": [
      "/tmp/ipykernel_138387/2637116355.py:12: FutureWarning: suggest_loguniform has been deprecated in v3.0.0. This feature will be removed in v6.0.0. See https://github.com/optuna/optuna/releases/tag/v3.0.0. Use suggest_float(..., log=True) instead.\n",
      "  'learning_rate': trial.suggest_loguniform('learning_rate', 0.001, 0.1),\n",
      "/tmp/ipykernel_138387/2637116355.py:14: FutureWarning: suggest_loguniform has been deprecated in v3.0.0. This feature will be removed in v6.0.0. See https://github.com/optuna/optuna/releases/tag/v3.0.0. Use suggest_float(..., log=True) instead.\n",
      "  'l2_leaf_reg': trial.suggest_loguniform('l2_leaf_reg', 1e-8, 100),\n",
      "/tmp/ipykernel_138387/2637116355.py:15: FutureWarning: suggest_loguniform has been deprecated in v3.0.0. This feature will be removed in v6.0.0. See https://github.com/optuna/optuna/releases/tag/v3.0.0. Use suggest_float(..., log=True) instead.\n",
      "  'random_strength': trial.suggest_loguniform('random_strength', 1e-8, 1.0),\n",
      "Warning: less than 75% gpu memory available for training. Free: 3091.625 Total: 16151.125\n",
      "Warning: less than 75% gpu memory available for training. Free: 4655.625 Total: 16151.125\n"
     ]
    },
    {
     "name": "stdout",
     "output_type": "stream",
     "text": [
      "0:\tlearn: 0.6507566\ttest: 0.6507435\tbest: 0.6507435 (0)\ttotal: 836ms\tremaining: 13m 51s\n",
      "200:\tlearn: 0.1339816\ttest: 0.1384984\tbest: 0.1384984 (200)\ttotal: 2m 47s\tremaining: 11m\n",
      "400:\tlearn: 0.1294126\ttest: 0.1377894\tbest: 0.1377894 (400)\ttotal: 5m 33s\tremaining: 8m 14s\n",
      "600:\tlearn: 0.1257678\ttest: 0.1375499\tbest: 0.1375499 (600)\ttotal: 8m 22s\tremaining: 5m 30s\n",
      "800:\tlearn: 0.1224801\ttest: 0.1373895\tbest: 0.1373895 (800)\ttotal: 11m 11s\tremaining: 2m 43s\n",
      "995:\tlearn: 0.1193594\ttest: 0.1373782\tbest: 0.1373109 (966)\ttotal: 13m 56s\tremaining: 0us\n",
      "bestTest = 0.137310887\n",
      "bestIteration = 966\n",
      "Shrink model to first 967 iterations.\n"
     ]
    },
    {
     "name": "stderr",
     "output_type": "stream",
     "text": [
      "[I 2024-03-13 11:27:10,521] Trial 7 finished with value: 0.7450724239976397 and parameters: {'iterations': 996, 'learning_rate': 0.026256714844353043, 'depth': 8, 'l2_leaf_reg': 1.089803384786932e-07, 'random_strength': 1.4529614210942658e-08}. Best is trial 7 with value: 0.7450724239976397.\n"
     ]
    },
    {
     "name": "stdout",
     "output_type": "stream",
     "text": [
      "7 0.7450724239976397\n"
     ]
    },
    {
     "name": "stderr",
     "output_type": "stream",
     "text": [
      "/tmp/ipykernel_138387/2637116355.py:12: FutureWarning: suggest_loguniform has been deprecated in v3.0.0. This feature will be removed in v6.0.0. See https://github.com/optuna/optuna/releases/tag/v3.0.0. Use suggest_float(..., log=True) instead.\n",
      "  'learning_rate': trial.suggest_loguniform('learning_rate', 0.001, 0.1),\n",
      "/tmp/ipykernel_138387/2637116355.py:14: FutureWarning: suggest_loguniform has been deprecated in v3.0.0. This feature will be removed in v6.0.0. See https://github.com/optuna/optuna/releases/tag/v3.0.0. Use suggest_float(..., log=True) instead.\n",
      "  'l2_leaf_reg': trial.suggest_loguniform('l2_leaf_reg', 1e-8, 100),\n",
      "/tmp/ipykernel_138387/2637116355.py:15: FutureWarning: suggest_loguniform has been deprecated in v3.0.0. This feature will be removed in v6.0.0. See https://github.com/optuna/optuna/releases/tag/v3.0.0. Use suggest_float(..., log=True) instead.\n",
      "  'random_strength': trial.suggest_loguniform('random_strength', 1e-8, 1.0),\n",
      "Warning: less than 75% gpu memory available for training. Free: 3091.625 Total: 16151.125\n",
      "Warning: less than 75% gpu memory available for training. Free: 4655.625 Total: 16151.125\n"
     ]
    },
    {
     "name": "stdout",
     "output_type": "stream",
     "text": [
      "0:\tlearn: 0.6702317\ttest: 0.6702157\tbest: 0.6702157 (0)\ttotal: 720ms\tremaining: 4m 21s\n",
      "200:\tlearn: 0.1401898\ttest: 0.1405812\tbest: 0.1405812 (200)\ttotal: 2m 24s\tremaining: 1m 58s\n",
      "364:\tlearn: 0.1375330\ttest: 0.1388493\tbest: 0.1388493 (364)\ttotal: 4m 23s\tremaining: 0us\n",
      "bestTest = 0.1388492655\n",
      "bestIteration = 364\n"
     ]
    },
    {
     "name": "stderr",
     "output_type": "stream",
     "text": [
      "[I 2024-03-13 11:31:42,059] Trial 8 finished with value: 0.7342877302763812 and parameters: {'iterations': 365, 'learning_rate': 0.014307501935720317, 'depth': 6, 'l2_leaf_reg': 4.876890857536299e-06, 'random_strength': 3.399105245515705e-05}. Best is trial 7 with value: 0.7450724239976397.\n"
     ]
    },
    {
     "name": "stdout",
     "output_type": "stream",
     "text": [
      "8 0.7342877302763812\n"
     ]
    },
    {
     "name": "stderr",
     "output_type": "stream",
     "text": [
      "/tmp/ipykernel_138387/2637116355.py:12: FutureWarning: suggest_loguniform has been deprecated in v3.0.0. This feature will be removed in v6.0.0. See https://github.com/optuna/optuna/releases/tag/v3.0.0. Use suggest_float(..., log=True) instead.\n",
      "  'learning_rate': trial.suggest_loguniform('learning_rate', 0.001, 0.1),\n",
      "/tmp/ipykernel_138387/2637116355.py:14: FutureWarning: suggest_loguniform has been deprecated in v3.0.0. This feature will be removed in v6.0.0. See https://github.com/optuna/optuna/releases/tag/v3.0.0. Use suggest_float(..., log=True) instead.\n",
      "  'l2_leaf_reg': trial.suggest_loguniform('l2_leaf_reg', 1e-8, 100),\n",
      "/tmp/ipykernel_138387/2637116355.py:15: FutureWarning: suggest_loguniform has been deprecated in v3.0.0. This feature will be removed in v6.0.0. See https://github.com/optuna/optuna/releases/tag/v3.0.0. Use suggest_float(..., log=True) instead.\n",
      "  'random_strength': trial.suggest_loguniform('random_strength', 1e-8, 1.0),\n",
      "Warning: less than 75% gpu memory available for training. Free: 3091.625 Total: 16151.125\n",
      "Warning: less than 75% gpu memory available for training. Free: 4655.625 Total: 16151.125\n"
     ]
    },
    {
     "name": "stdout",
     "output_type": "stream",
     "text": [
      "0:\tlearn: 0.6904005\ttest: 0.6903995\tbest: 0.6903995 (0)\ttotal: 842ms\tremaining: 13m 6s\n",
      "200:\tlearn: 0.3477919\ttest: 0.3479363\tbest: 0.3479363 (200)\ttotal: 2m 49s\tremaining: 10m 19s\n",
      "400:\tlearn: 0.2244646\ttest: 0.2248238\tbest: 0.2248238 (400)\ttotal: 5m 38s\tremaining: 7m 30s\n",
      "600:\tlearn: 0.1767637\ttest: 0.1774057\tbest: 0.1774057 (600)\ttotal: 8m 28s\tremaining: 4m 42s\n",
      "800:\tlearn: 0.1565206\ttest: 0.1574893\tbest: 0.1574893 (800)\ttotal: 11m 18s\tremaining: 1m 53s\n",
      "934:\tlearn: 0.1496111\ttest: 0.1508048\tbest: 0.1508048 (934)\ttotal: 13m 12s\tremaining: 0us\n",
      "bestTest = 0.1508047576\n",
      "bestIteration = 934\n"
     ]
    },
    {
     "name": "stderr",
     "output_type": "stream",
     "text": [
      "[I 2024-03-13 11:45:03,725] Trial 9 finished with value: 0.726437037432992 and parameters: {'iterations': 935, 'learning_rate': 0.0016606914944349506, 'depth': 8, 'l2_leaf_reg': 2.222015415020985e-07, 'random_strength': 2.5775052990773255e-07}. Best is trial 7 with value: 0.7450724239976397.\n"
     ]
    },
    {
     "name": "stdout",
     "output_type": "stream",
     "text": [
      "9 0.726437037432992\n"
     ]
    },
    {
     "name": "stderr",
     "output_type": "stream",
     "text": [
      "/tmp/ipykernel_138387/2637116355.py:12: FutureWarning: suggest_loguniform has been deprecated in v3.0.0. This feature will be removed in v6.0.0. See https://github.com/optuna/optuna/releases/tag/v3.0.0. Use suggest_float(..., log=True) instead.\n",
      "  'learning_rate': trial.suggest_loguniform('learning_rate', 0.001, 0.1),\n",
      "/tmp/ipykernel_138387/2637116355.py:14: FutureWarning: suggest_loguniform has been deprecated in v3.0.0. This feature will be removed in v6.0.0. See https://github.com/optuna/optuna/releases/tag/v3.0.0. Use suggest_float(..., log=True) instead.\n",
      "  'l2_leaf_reg': trial.suggest_loguniform('l2_leaf_reg', 1e-8, 100),\n",
      "/tmp/ipykernel_138387/2637116355.py:15: FutureWarning: suggest_loguniform has been deprecated in v3.0.0. This feature will be removed in v6.0.0. See https://github.com/optuna/optuna/releases/tag/v3.0.0. Use suggest_float(..., log=True) instead.\n",
      "  'random_strength': trial.suggest_loguniform('random_strength', 1e-8, 1.0),\n",
      "Warning: less than 75% gpu memory available for training. Free: 3091.625 Total: 16151.125\n",
      "Warning: less than 75% gpu memory available for training. Free: 4655.625 Total: 16151.125\n"
     ]
    },
    {
     "name": "stdout",
     "output_type": "stream",
     "text": [
      "0:\tlearn: 0.5663161\ttest: 0.5661734\tbest: 0.5661734 (0)\ttotal: 377ms\tremaining: 6m 14s\n",
      "200:\tlearn: 0.1329296\ttest: 0.1375903\tbest: 0.1375903 (200)\ttotal: 2m 37s\tremaining: 10m 18s\n",
      "400:\tlearn: 0.1287042\ttest: 0.1372424\tbest: 0.1372424 (400)\ttotal: 5m 11s\tremaining: 7m 39s\n",
      "600:\tlearn: 0.1250058\ttest: 0.1372255\tbest: 0.1371765 (489)\ttotal: 7m 45s\tremaining: 5m 3s\n",
      "bestTest = 0.1371765348\n",
      "bestIteration = 489\n",
      "Shrink model to first 490 iterations.\n"
     ]
    },
    {
     "name": "stderr",
     "output_type": "stream",
     "text": [
      "[I 2024-03-13 11:55:22,373] Trial 10 finished with value: 0.747001359732817 and parameters: {'iterations': 993, 'learning_rate': 0.08923160316241886, 'depth': 7, 'l2_leaf_reg': 4.218357753286806, 'random_strength': 0.908377453233222}. Best is trial 10 with value: 0.747001359732817.\n"
     ]
    },
    {
     "name": "stdout",
     "output_type": "stream",
     "text": [
      "10 0.747001359732817\n"
     ]
    },
    {
     "name": "stderr",
     "output_type": "stream",
     "text": [
      "/tmp/ipykernel_138387/2637116355.py:12: FutureWarning: suggest_loguniform has been deprecated in v3.0.0. This feature will be removed in v6.0.0. See https://github.com/optuna/optuna/releases/tag/v3.0.0. Use suggest_float(..., log=True) instead.\n",
      "  'learning_rate': trial.suggest_loguniform('learning_rate', 0.001, 0.1),\n",
      "/tmp/ipykernel_138387/2637116355.py:14: FutureWarning: suggest_loguniform has been deprecated in v3.0.0. This feature will be removed in v6.0.0. See https://github.com/optuna/optuna/releases/tag/v3.0.0. Use suggest_float(..., log=True) instead.\n",
      "  'l2_leaf_reg': trial.suggest_loguniform('l2_leaf_reg', 1e-8, 100),\n",
      "/tmp/ipykernel_138387/2637116355.py:15: FutureWarning: suggest_loguniform has been deprecated in v3.0.0. This feature will be removed in v6.0.0. See https://github.com/optuna/optuna/releases/tag/v3.0.0. Use suggest_float(..., log=True) instead.\n",
      "  'random_strength': trial.suggest_loguniform('random_strength', 1e-8, 1.0),\n",
      "Warning: less than 75% gpu memory available for training. Free: 3091.625 Total: 16151.125\n",
      "Warning: less than 75% gpu memory available for training. Free: 4655.625 Total: 16151.125\n"
     ]
    },
    {
     "name": "stdout",
     "output_type": "stream",
     "text": [
      "0:\tlearn: 0.5752573\ttest: 0.5751257\tbest: 0.5751257 (0)\ttotal: 349ms\tremaining: 5m 37s\n",
      "200:\tlearn: 0.1333496\ttest: 0.1375475\tbest: 0.1375475 (200)\ttotal: 2m 33s\tremaining: 9m 45s\n",
      "400:\tlearn: 0.1293534\ttest: 0.1373148\tbest: 0.1373139 (398)\ttotal: 5m 7s\tremaining: 7m 13s\n",
      "600:\tlearn: 0.1258443\ttest: 0.1371672\tbest: 0.1371437 (586)\ttotal: 7m 41s\tremaining: 4m 40s\n",
      "800:\tlearn: 0.1228260\ttest: 0.1370818\tbest: 0.1370592 (785)\ttotal: 10m 15s\tremaining: 2m 6s\n",
      "965:\tlearn: 0.1202165\ttest: 0.1370752\tbest: 0.1370297 (873)\ttotal: 12m 22s\tremaining: 0us\n",
      "bestTest = 0.1370296783\n",
      "bestIteration = 873\n",
      "Shrink model to first 874 iterations.\n"
     ]
    },
    {
     "name": "stderr",
     "output_type": "stream",
     "text": [
      "[I 2024-03-13 12:07:52,264] Trial 11 finished with value: 0.7490370331693179 and parameters: {'iterations': 966, 'learning_rate': 0.08239801723593801, 'depth': 7, 'l2_leaf_reg': 4.121297895182485, 'random_strength': 0.8202344260693056}. Best is trial 11 with value: 0.7490370331693179.\n"
     ]
    },
    {
     "name": "stdout",
     "output_type": "stream",
     "text": [
      "11 0.7490370331693179\n"
     ]
    },
    {
     "name": "stderr",
     "output_type": "stream",
     "text": [
      "/tmp/ipykernel_138387/2637116355.py:12: FutureWarning: suggest_loguniform has been deprecated in v3.0.0. This feature will be removed in v6.0.0. See https://github.com/optuna/optuna/releases/tag/v3.0.0. Use suggest_float(..., log=True) instead.\n",
      "  'learning_rate': trial.suggest_loguniform('learning_rate', 0.001, 0.1),\n",
      "/tmp/ipykernel_138387/2637116355.py:14: FutureWarning: suggest_loguniform has been deprecated in v3.0.0. This feature will be removed in v6.0.0. See https://github.com/optuna/optuna/releases/tag/v3.0.0. Use suggest_float(..., log=True) instead.\n",
      "  'l2_leaf_reg': trial.suggest_loguniform('l2_leaf_reg', 1e-8, 100),\n",
      "/tmp/ipykernel_138387/2637116355.py:15: FutureWarning: suggest_loguniform has been deprecated in v3.0.0. This feature will be removed in v6.0.0. See https://github.com/optuna/optuna/releases/tag/v3.0.0. Use suggest_float(..., log=True) instead.\n",
      "  'random_strength': trial.suggest_loguniform('random_strength', 1e-8, 1.0),\n",
      "Warning: less than 75% gpu memory available for training. Free: 3091.625 Total: 16151.125\n",
      "Warning: less than 75% gpu memory available for training. Free: 4655.625 Total: 16151.125\n"
     ]
    },
    {
     "name": "stdout",
     "output_type": "stream",
     "text": [
      "0:\tlearn: 0.5593159\ttest: 0.5591642\tbest: 0.5591642 (0)\ttotal: 341ms\tremaining: 4m 39s\n",
      "200:\tlearn: 0.1350239\ttest: 0.1376508\tbest: 0.1376494 (197)\ttotal: 2m 22s\tremaining: 7m 19s\n",
      "400:\tlearn: 0.1329804\ttest: 0.1373467\tbest: 0.1373438 (382)\ttotal: 4m 44s\tremaining: 4m 58s\n",
      "600:\tlearn: 0.1313258\ttest: 0.1372065\tbest: 0.1372056 (599)\ttotal: 7m 6s\tremaining: 2m 36s\n",
      "800:\tlearn: 0.1300083\ttest: 0.1371562\tbest: 0.1371480 (753)\ttotal: 9m 28s\tremaining: 14.9s\n",
      "821:\tlearn: 0.1298836\ttest: 0.1371492\tbest: 0.1371465 (815)\ttotal: 9m 43s\tremaining: 0us\n",
      "bestTest = 0.137146502\n",
      "bestIteration = 815\n",
      "Shrink model to first 816 iterations.\n"
     ]
    },
    {
     "name": "stderr",
     "output_type": "stream",
     "text": [
      "[I 2024-03-13 12:17:42,664] Trial 12 finished with value: 0.7470797102130964 and parameters: {'iterations': 822, 'learning_rate': 0.09465160782792151, 'depth': 6, 'l2_leaf_reg': 58.73931247225134, 'random_strength': 0.7333719197709208}. Best is trial 11 with value: 0.7490370331693179.\n"
     ]
    },
    {
     "name": "stdout",
     "output_type": "stream",
     "text": [
      "12 0.7470797102130964\n"
     ]
    },
    {
     "name": "stderr",
     "output_type": "stream",
     "text": [
      "/tmp/ipykernel_138387/2637116355.py:12: FutureWarning: suggest_loguniform has been deprecated in v3.0.0. This feature will be removed in v6.0.0. See https://github.com/optuna/optuna/releases/tag/v3.0.0. Use suggest_float(..., log=True) instead.\n",
      "  'learning_rate': trial.suggest_loguniform('learning_rate', 0.001, 0.1),\n",
      "/tmp/ipykernel_138387/2637116355.py:14: FutureWarning: suggest_loguniform has been deprecated in v3.0.0. This feature will be removed in v6.0.0. See https://github.com/optuna/optuna/releases/tag/v3.0.0. Use suggest_float(..., log=True) instead.\n",
      "  'l2_leaf_reg': trial.suggest_loguniform('l2_leaf_reg', 1e-8, 100),\n",
      "/tmp/ipykernel_138387/2637116355.py:15: FutureWarning: suggest_loguniform has been deprecated in v3.0.0. This feature will be removed in v6.0.0. See https://github.com/optuna/optuna/releases/tag/v3.0.0. Use suggest_float(..., log=True) instead.\n",
      "  'random_strength': trial.suggest_loguniform('random_strength', 1e-8, 1.0),\n",
      "Warning: less than 75% gpu memory available for training. Free: 3091.625 Total: 16151.125\n",
      "Warning: less than 75% gpu memory available for training. Free: 4655.625 Total: 16151.125\n"
     ]
    },
    {
     "name": "stdout",
     "output_type": "stream",
     "text": [
      "0:\tlearn: 0.6238421\ttest: 0.6237679\tbest: 0.6237679 (0)\ttotal: 345ms\tremaining: 4m 39s\n",
      "200:\tlearn: 0.1364742\ttest: 0.1383201\tbest: 0.1383201 (200)\ttotal: 2m 21s\tremaining: 7m 10s\n",
      "400:\tlearn: 0.1339692\ttest: 0.1377864\tbest: 0.1377825 (398)\ttotal: 4m 44s\tremaining: 4m 49s\n",
      "600:\tlearn: 0.1318166\ttest: 0.1375449\tbest: 0.1375365 (595)\ttotal: 7m 12s\tremaining: 2m 30s\n",
      "800:\tlearn: 0.1299577\ttest: 0.1374057\tbest: 0.1373977 (792)\ttotal: 9m 45s\tremaining: 6.58s\n",
      "809:\tlearn: 0.1298790\ttest: 0.1374008\tbest: 0.1373977 (792)\ttotal: 9m 52s\tremaining: 0us\n",
      "bestTest = 0.1373976528\n",
      "bestIteration = 792\n",
      "Shrink model to first 793 iterations.\n"
     ]
    },
    {
     "name": "stderr",
     "output_type": "stream",
     "text": [
      "[I 2024-03-13 12:27:42,554] Trial 13 finished with value: 0.7445285211475683 and parameters: {'iterations': 810, 'learning_rate': 0.04683875535719443, 'depth': 6, 'l2_leaf_reg': 0.3703350044200323, 'random_strength': 0.5687431080906225}. Best is trial 11 with value: 0.7490370331693179.\n"
     ]
    },
    {
     "name": "stdout",
     "output_type": "stream",
     "text": [
      "13 0.7445285211475683\n"
     ]
    },
    {
     "name": "stderr",
     "output_type": "stream",
     "text": [
      "/tmp/ipykernel_138387/2637116355.py:12: FutureWarning: suggest_loguniform has been deprecated in v3.0.0. This feature will be removed in v6.0.0. See https://github.com/optuna/optuna/releases/tag/v3.0.0. Use suggest_float(..., log=True) instead.\n",
      "  'learning_rate': trial.suggest_loguniform('learning_rate', 0.001, 0.1),\n",
      "/tmp/ipykernel_138387/2637116355.py:14: FutureWarning: suggest_loguniform has been deprecated in v3.0.0. This feature will be removed in v6.0.0. See https://github.com/optuna/optuna/releases/tag/v3.0.0. Use suggest_float(..., log=True) instead.\n",
      "  'l2_leaf_reg': trial.suggest_loguniform('l2_leaf_reg', 1e-8, 100),\n",
      "/tmp/ipykernel_138387/2637116355.py:15: FutureWarning: suggest_loguniform has been deprecated in v3.0.0. This feature will be removed in v6.0.0. See https://github.com/optuna/optuna/releases/tag/v3.0.0. Use suggest_float(..., log=True) instead.\n",
      "  'random_strength': trial.suggest_loguniform('random_strength', 1e-8, 1.0),\n",
      "Warning: less than 75% gpu memory available for training. Free: 3091.625 Total: 16151.125\n",
      "Warning: less than 75% gpu memory available for training. Free: 4655.625 Total: 16151.125\n"
     ]
    },
    {
     "name": "stdout",
     "output_type": "stream",
     "text": [
      "0:\tlearn: 0.5609781\ttest: 0.5608429\tbest: 0.5608429 (0)\ttotal: 744ms\tremaining: 7m 26s\n",
      "200:\tlearn: 0.1362886\ttest: 0.1379179\tbest: 0.1379179 (200)\ttotal: 2m 18s\tremaining: 4m 35s\n",
      "400:\tlearn: 0.1346503\ttest: 0.1374553\tbest: 0.1374553 (400)\ttotal: 4m 35s\tremaining: 2m 17s\n",
      "600:\tlearn: 0.1334913\ttest: 0.1372803\tbest: 0.1372793 (599)\ttotal: 6m 53s\tremaining: 0us\n",
      "bestTest = 0.1372792629\n",
      "bestIteration = 599\n",
      "Shrink model to first 600 iterations.\n"
     ]
    },
    {
     "name": "stderr",
     "output_type": "stream",
     "text": [
      "[I 2024-03-13 12:34:43,890] Trial 14 finished with value: 0.7454329451080648 and parameters: {'iterations': 601, 'learning_rate': 0.08779718254050488, 'depth': 5, 'l2_leaf_reg': 74.64598328347401, 'random_strength': 0.03182116776361836}. Best is trial 11 with value: 0.7490370331693179.\n"
     ]
    },
    {
     "name": "stdout",
     "output_type": "stream",
     "text": [
      "14 0.7454329451080648\n"
     ]
    },
    {
     "name": "stderr",
     "output_type": "stream",
     "text": [
      "/tmp/ipykernel_138387/2637116355.py:12: FutureWarning: suggest_loguniform has been deprecated in v3.0.0. This feature will be removed in v6.0.0. See https://github.com/optuna/optuna/releases/tag/v3.0.0. Use suggest_float(..., log=True) instead.\n",
      "  'learning_rate': trial.suggest_loguniform('learning_rate', 0.001, 0.1),\n",
      "/tmp/ipykernel_138387/2637116355.py:14: FutureWarning: suggest_loguniform has been deprecated in v3.0.0. This feature will be removed in v6.0.0. See https://github.com/optuna/optuna/releases/tag/v3.0.0. Use suggest_float(..., log=True) instead.\n",
      "  'l2_leaf_reg': trial.suggest_loguniform('l2_leaf_reg', 1e-8, 100),\n",
      "/tmp/ipykernel_138387/2637116355.py:15: FutureWarning: suggest_loguniform has been deprecated in v3.0.0. This feature will be removed in v6.0.0. See https://github.com/optuna/optuna/releases/tag/v3.0.0. Use suggest_float(..., log=True) instead.\n",
      "  'random_strength': trial.suggest_loguniform('random_strength', 1e-8, 1.0),\n",
      "Warning: less than 75% gpu memory available for training. Free: 3091.625 Total: 16151.125\n",
      "Warning: less than 75% gpu memory available for training. Free: 4655.625 Total: 16151.125\n"
     ]
    },
    {
     "name": "stdout",
     "output_type": "stream",
     "text": [
      "0:\tlearn: 0.6842381\ttest: 0.6842336\tbest: 0.6842336 (0)\ttotal: 881ms\tremaining: 10m 51s\n",
      "200:\tlearn: 0.1702184\ttest: 0.1700606\tbest: 0.1700606 (200)\ttotal: 2m 45s\tremaining: 7m 24s\n",
      "400:\tlearn: 0.1425980\ttest: 0.1429176\tbest: 0.1429176 (400)\ttotal: 5m 29s\tremaining: 4m 38s\n",
      "600:\tlearn: 0.1388250\ttest: 0.1397169\tbest: 0.1397169 (600)\ttotal: 8m 13s\tremaining: 1m 54s\n"
     ]
    }
   ],
   "source": [
    "import optuna\n",
    "import catboost\n",
    "from catboost import CatBoostClassifier\n",
    "from sklearn.metrics import roc_auc_score\n",
    "import pickle\n",
    "\n",
    "# Define the objective function for Optuna\n",
    "def objective(trial):\n",
    "    # Define the hyperparameters to search\n",
    "    params = {\n",
    "        'iterations': trial.suggest_int('iterations', 200, 1000),\n",
    "        'learning_rate': trial.suggest_loguniform('learning_rate', 0.001, 0.1),\n",
    "        'depth': trial.suggest_int('depth', 4, 10),\n",
    "        'l2_leaf_reg': trial.suggest_loguniform('l2_leaf_reg', 1e-8, 100),\n",
    "        'random_strength': trial.suggest_loguniform('random_strength', 1e-8, 1.0),\n",
    "    }\n",
    "\n",
    "    # Define CatBoost Classifier with the chosen hyperparameters\n",
    "    model = CatBoostClassifier(\n",
    "        **params,\n",
    "        task_type=\"GPU\",\n",
    "        metric_period=5\n",
    "    )\n",
    "\n",
    "    # Fit the model\n",
    "    model.fit(X_train, y_train, eval_set=(X_val, y_val), early_stopping_rounds=300, verbose=200)\n",
    "\n",
    "    # Calculate ROC AUC score on the validation set\n",
    "    y_pred = model.predict_proba(X_val)[:, 1]\n",
    "    roc_auc = roc_auc_score(y_val, y_pred)\n",
    "\n",
    "    print(trial.number, roc_auc)\n",
    "\n",
    "    # Save the model weights to a file\n",
    "    if trial.number % 5 == 0:\n",
    "        model.save_model(f\"models/iteration_{trial.number}_roc_auc_{roc_auc}.cbm\")\n",
    "\n",
    "    return roc_auc\n",
    "\n",
    "# Run Optuna optimization\n",
    "study = optuna.create_study(direction='maximize')\n",
    "study.optimize(objective, n_trials=200)\n",
    "\n",
    "# Get the best hyperparameters\n",
    "best_params = study.best_params\n",
    "\n",
    "# Train the final model with the best hyperparameters\n",
    "final_model = CatBoostClassifier(**best_params, task_type=\"GPU\", cat_features=category)\n",
    "final_model.fit(X_train, y_train)\n",
    "\n",
    "# Save the final model weights to a file\n",
    "final_model.save_model(\"final_model.cbm\")"
   ]
  },
  {
   "cell_type": "code",
   "execution_count": null,
   "metadata": {},
   "outputs": [
    {
     "name": "stdout",
     "output_type": "stream",
     "text": [
      "0:\tlearn: 0.6776278\ttotal: 389ms\tremaining: 3m 14s\n"
     ]
    },
    {
     "ename": "KeyboardInterrupt",
     "evalue": "",
     "output_type": "error",
     "traceback": [
      "\u001b[0;31m---------------------------------------------------------------------------\u001b[0m",
      "\u001b[0;31mKeyboardInterrupt\u001b[0m                         Traceback (most recent call last)",
      "Cell \u001b[0;32mIn[19], line 2\u001b[0m\n\u001b[1;32m      1\u001b[0m model \u001b[38;5;241m=\u001b[39m CatBoostClassifier(iterations\u001b[38;5;241m=\u001b[39m\u001b[38;5;241m500\u001b[39m, learning_rate\u001b[38;5;241m=\u001b[39m\u001b[38;5;241m0.01\u001b[39m, depth\u001b[38;5;241m=\u001b[39m\u001b[38;5;241m8\u001b[39m, loss_function\u001b[38;5;241m=\u001b[39m\u001b[38;5;124m'\u001b[39m\u001b[38;5;124mLogloss\u001b[39m\u001b[38;5;124m'\u001b[39m, verbose \u001b[38;5;241m=\u001b[39m \u001b[38;5;241m100\u001b[39m)\n\u001b[0;32m----> 2\u001b[0m model\u001b[38;5;241m.\u001b[39mfit(X_train, y_train, cat_features\u001b[38;5;241m=\u001b[39mcategory)\n\u001b[1;32m      4\u001b[0m y_train_pred \u001b[38;5;241m=\u001b[39m model\u001b[38;5;241m.\u001b[39mpredict_proba(X_train)[:, \u001b[38;5;241m1\u001b[39m]\n\u001b[1;32m      5\u001b[0m y_val_pred \u001b[38;5;241m=\u001b[39m model\u001b[38;5;241m.\u001b[39mpredict_proba(X_val)[:, \u001b[38;5;241m1\u001b[39m]\n",
      "File \u001b[0;32m~/.local/lib/python3.11/site-packages/catboost/core.py:5201\u001b[0m, in \u001b[0;36mCatBoostClassifier.fit\u001b[0;34m(self, X, y, cat_features, text_features, embedding_features, sample_weight, baseline, use_best_model, eval_set, verbose, logging_level, plot, plot_file, column_description, verbose_eval, metric_period, silent, early_stopping_rounds, save_snapshot, snapshot_file, snapshot_interval, init_model, callbacks, log_cout, log_cerr)\u001b[0m\n\u001b[1;32m   5198\u001b[0m \u001b[38;5;28;01mif\u001b[39;00m \u001b[38;5;124m'\u001b[39m\u001b[38;5;124mloss_function\u001b[39m\u001b[38;5;124m'\u001b[39m \u001b[38;5;129;01min\u001b[39;00m params:\n\u001b[1;32m   5199\u001b[0m     CatBoostClassifier\u001b[38;5;241m.\u001b[39m_check_is_compatible_loss(params[\u001b[38;5;124m'\u001b[39m\u001b[38;5;124mloss_function\u001b[39m\u001b[38;5;124m'\u001b[39m])\n\u001b[0;32m-> 5201\u001b[0m \u001b[38;5;28mself\u001b[39m\u001b[38;5;241m.\u001b[39m_fit(X, y, cat_features, text_features, embedding_features, \u001b[38;5;28;01mNone\u001b[39;00m, sample_weight, \u001b[38;5;28;01mNone\u001b[39;00m, \u001b[38;5;28;01mNone\u001b[39;00m, \u001b[38;5;28;01mNone\u001b[39;00m, \u001b[38;5;28;01mNone\u001b[39;00m, baseline, use_best_model,\n\u001b[1;32m   5202\u001b[0m           eval_set, verbose, logging_level, plot, plot_file, column_description, verbose_eval, metric_period,\n\u001b[1;32m   5203\u001b[0m           silent, early_stopping_rounds, save_snapshot, snapshot_file, snapshot_interval, init_model, callbacks, log_cout, log_cerr)\n\u001b[1;32m   5204\u001b[0m \u001b[38;5;28;01mreturn\u001b[39;00m \u001b[38;5;28mself\u001b[39m\n",
      "File \u001b[0;32m~/.local/lib/python3.11/site-packages/catboost/core.py:2396\u001b[0m, in \u001b[0;36mCatBoost._fit\u001b[0;34m(self, X, y, cat_features, text_features, embedding_features, pairs, sample_weight, group_id, group_weight, subgroup_id, pairs_weight, baseline, use_best_model, eval_set, verbose, logging_level, plot, plot_file, column_description, verbose_eval, metric_period, silent, early_stopping_rounds, save_snapshot, snapshot_file, snapshot_interval, init_model, callbacks, log_cout, log_cerr)\u001b[0m\n\u001b[1;32m   2393\u001b[0m allow_clear_pool \u001b[38;5;241m=\u001b[39m train_params[\u001b[38;5;124m\"\u001b[39m\u001b[38;5;124mallow_clear_pool\u001b[39m\u001b[38;5;124m\"\u001b[39m]\n\u001b[1;32m   2395\u001b[0m \u001b[38;5;28;01mwith\u001b[39;00m plot_wrapper(plot, plot_file, \u001b[38;5;124m'\u001b[39m\u001b[38;5;124mTraining plots\u001b[39m\u001b[38;5;124m'\u001b[39m, [_get_train_dir(\u001b[38;5;28mself\u001b[39m\u001b[38;5;241m.\u001b[39mget_params())]):\n\u001b[0;32m-> 2396\u001b[0m     \u001b[38;5;28mself\u001b[39m\u001b[38;5;241m.\u001b[39m_train(\n\u001b[1;32m   2397\u001b[0m         train_pool,\n\u001b[1;32m   2398\u001b[0m         train_params[\u001b[38;5;124m\"\u001b[39m\u001b[38;5;124meval_sets\u001b[39m\u001b[38;5;124m\"\u001b[39m],\n\u001b[1;32m   2399\u001b[0m         params,\n\u001b[1;32m   2400\u001b[0m         allow_clear_pool,\n\u001b[1;32m   2401\u001b[0m         train_params[\u001b[38;5;124m\"\u001b[39m\u001b[38;5;124minit_model\u001b[39m\u001b[38;5;124m\"\u001b[39m]\n\u001b[1;32m   2402\u001b[0m     )\n\u001b[1;32m   2404\u001b[0m \u001b[38;5;66;03m# Have property feature_importance possibly set\u001b[39;00m\n\u001b[1;32m   2405\u001b[0m loss \u001b[38;5;241m=\u001b[39m \u001b[38;5;28mself\u001b[39m\u001b[38;5;241m.\u001b[39m_object\u001b[38;5;241m.\u001b[39m_get_loss_function_name()\n",
      "File \u001b[0;32m~/.local/lib/python3.11/site-packages/catboost/core.py:1776\u001b[0m, in \u001b[0;36m_CatBoostBase._train\u001b[0;34m(self, train_pool, test_pool, params, allow_clear_pool, init_model)\u001b[0m\n\u001b[1;32m   1775\u001b[0m \u001b[38;5;28;01mdef\u001b[39;00m \u001b[38;5;21m_train\u001b[39m(\u001b[38;5;28mself\u001b[39m, train_pool, test_pool, params, allow_clear_pool, init_model):\n\u001b[0;32m-> 1776\u001b[0m     \u001b[38;5;28mself\u001b[39m\u001b[38;5;241m.\u001b[39m_object\u001b[38;5;241m.\u001b[39m_train(train_pool, test_pool, params, allow_clear_pool, init_model\u001b[38;5;241m.\u001b[39m_object \u001b[38;5;28;01mif\u001b[39;00m init_model \u001b[38;5;28;01melse\u001b[39;00m \u001b[38;5;28;01mNone\u001b[39;00m)\n\u001b[1;32m   1777\u001b[0m     \u001b[38;5;28mself\u001b[39m\u001b[38;5;241m.\u001b[39m_set_trained_model_attributes()\n",
      "File \u001b[0;32m_catboost.pyx:4833\u001b[0m, in \u001b[0;36m_catboost._CatBoost._train\u001b[0;34m()\u001b[0m\n",
      "File \u001b[0;32m_catboost.pyx:4882\u001b[0m, in \u001b[0;36m_catboost._CatBoost._train\u001b[0;34m()\u001b[0m\n",
      "\u001b[0;31mKeyboardInterrupt\u001b[0m: "
     ]
    }
   ],
   "source": [
    "model = CatBoostClassifier(iterations=500, learning_rate=0.01, depth=8, loss_function='Logloss', verbose = 100)\n",
    "model.fit(X_train, y_train, cat_features=category)\n",
    "\n",
    "y_train_pred = model.predict_proba(X_train)[:, 1]\n",
    "y_val_pred = model.predict_proba(X_val)[:, 1]\n",
    "\n",
    "predictions = np.where(y_val_pred > 0.05, 1, 0)\n",
    "\n",
    "roc_auc_train = roc_auc_score(y_train, y_train_pred)\n",
    "roc_auc_test = roc_auc_score(y_val, y_val_pred)\n",
    "print(f\"roc-auc train {roc_auc_train}\")\n",
    "print(f\"roc-auc test {roc_auc_test}\")\n",
    "print(classification_report(y_val, predictions))"
   ]
  },
  {
   "cell_type": "code",
   "execution_count": null,
   "metadata": {},
   "outputs": [
    {
     "data": {
      "image/png": "[encoded data removed]",
      "text/plain": [
       "<Figure size 640x480 with 1 Axes>"
      ]
     },
     "metadata": {},
     "output_type": "display_data"
    },
    {
     "name": "stdout",
     "output_type": "stream",
     "text": [
      "5-й квантиль: 0.6624608183697914\n",
      "95-й квантиль: 0.79343134857206\n"
     ]
    }
   ],
   "source": [
    "seed = 42\n",
    "rng = np.random.RandomState(seed)\n",
    "\n",
    "roc_auc_scores = []\n",
    "\n",
    "for _ in range(100):  # Повторяем 100 раз\n",
    "    # Выбираем случайные 1000 элементов из X_val и соответствующие метки y_val с помощью созданного генератора\n",
    "    sample_indices = rng.choice(X_val.index, size=1000, replace=False)\n",
    "    X_val_sample = X_val.loc[sample_indices]\n",
    "    y_val_sample = y_val.loc[sample_indices]\n",
    "    \n",
    "    # Выполняем предсказание для выборки\n",
    "    y_pred_sample = model.predict_proba(X_val_sample)[:, 1]\n",
    "    \n",
    "    # Вычисляем roc_auc и добавляем в список\n",
    "    roc_auc = roc_auc_score(y_val_sample, y_pred_sample)\n",
    "    roc_auc_scores.append(roc_auc)\n",
    "\n",
    "# Визуализация распределения roc_auc с помощью гистограммы\n",
    "sns.histplot(roc_auc_scores, kde=True)\n",
    "plt.title('Распределение ROC-AUC для случайных подвыборок из X_val')\n",
    "plt.xlabel('ROC-AUC Score')\n",
    "plt.ylabel('Частота')\n",
    "plt.show()\n",
    "\n",
    "# Вычисление 5-го и 95-го квантилей\n",
    "quantile_5 = np.percentile(roc_auc_scores, 5)\n",
    "quantile_95 = np.percentile(roc_auc_scores, 95)\n",
    "\n",
    "print(f\"5-й квантиль: {quantile_5}\")\n",
    "print(f\"95-й квантиль: {quantile_95}\")"
   ]
  },
  {
   "cell_type": "code",
   "execution_count": null,
   "metadata": {},
   "outputs": [],
   "source": []
  },
  {
   "cell_type": "code",
   "execution_count": null,
   "metadata": {},
   "outputs": [],
   "source": []
  },
  {
   "cell_type": "code",
   "execution_count": null,
   "metadata": {},
   "outputs": [],
   "source": []
  },
  {
   "cell_type": "code",
   "execution_count": null,
   "metadata": {},
   "outputs": [],
   "source": []
  },
  {
   "cell_type": "code",
   "execution_count": null,
   "metadata": {},
   "outputs": [],
   "source": []
  },
  {
   "cell_type": "code",
   "execution_count": null,
   "metadata": {},
   "outputs": [],
   "source": []
  },
  {
   "cell_type": "code",
   "execution_count": null,
   "metadata": {},
   "outputs": [],
   "source": []
  },
  {
   "cell_type": "code",
   "execution_count": null,
   "metadata": {},
   "outputs": [],
   "source": []
  },
  {
   "cell_type": "code",
   "execution_count": null,
   "metadata": {},
   "outputs": [],
   "source": []
  },
  {
   "cell_type": "code",
   "execution_count": null,
   "metadata": {},
   "outputs": [],
   "source": []
  }
 ],
 "metadata": {
  "kernelspec": {
   "display_name": "venv",
   "language": "python",
   "name": "python3"
  },
  "language_info": {
   "codemirror_mode": {
    "name": "ipython",
    "version": 3
   },
   "file_extension": ".py",
   "mimetype": "text/x-python",
   "name": "python",
   "nbconvert_exporter": "python",
   "pygments_lexer": "ipython3",
   "version": "3.9.7"
  }
 },
 "nbformat": 4,
 "nbformat_minor": 2
}
