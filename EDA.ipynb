{
 "cells": [
  {
   "cell_type": "code",
   "execution_count": null,
   "metadata": {},
   "outputs": [],
   "source": [
    "file_path = \"C:/Users/Александр/Desktop/УЧЕБА/ХАКАТОНЫ/IT Purple Hack/purple_hack/Data/train_ai_comp_final_dp_no_compression/train_ai_comp_final_dp.parquet\"\n",
    "pf = ParquetFile(file_path)\n",
    "df = pf.to_pandas()\n",
    "df.head()"
   ]
  }
 ],
 "metadata": {
  "language_info": {
   "name": "python"
  }
 },
 "nbformat": 4,
 "nbformat_minor": 2
}
